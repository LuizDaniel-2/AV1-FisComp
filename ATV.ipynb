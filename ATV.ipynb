{
 "cells": [
  {
   "cell_type": "markdown",
   "metadata": {},
   "source": [
    "## Atividade 1"
   ]
  },
  {
   "cell_type": "markdown",
   "metadata": {},
   "source": [
    "Um projétil é lançado verticalmente para cima, a partir do solo, com velocidade inicial  ($v_0$ em $m/s$). O projétil está sujeito apenas à gravidade ($g= 9.8 m/s^2$). Para personalizar o exercício, cada aluno deve calcular a altura máxima atingida pelo projétil usando como valor de $v_0$ a soma dos dígitos do seu RA multiplicada por $2$.\n",
    "\n",
    "Tarefas:\n",
    " - Solicite ao usuário o número do RA.\n",
    " - Calcule a soma dos dígitos do RA.\n",
    " - Defina  (soma dos dígitos do RA).\n",
    " - Calcule e imprima a altura máxima atingida pelo projétil usando a expressão: $h_{max}=\\frac{v^2}{2g}$\n",
    "\n",
    " - Mostre o valor de  utilizado e a altura máxima calculada.\n",
    "\n",
    " ![fluxograma](altura_maxima.drawio.png)"
   ]
  },
  {
   "cell_type": "code",
   "execution_count": 3,
   "metadata": {},
   "outputs": [
    {
     "name": "stdout",
     "output_type": "stream",
     "text": [
      "RA: 11202130317\n",
      "SOMA: 21\n",
      "VELOCIDADE INICIAL: 42 m/s\n",
      "A altura máxima atingida é 90.00 metros.\n"
     ]
    }
   ],
   "source": [
    "RA = input('Insira o seu RA:') #input do RA do aluno\n",
    "print('RA:', RA) # Exibe o RA\n",
    "g = 9.8 # Aceleração da gravidade em m/s²\n",
    "\n",
    "soma = sum(int(digito) for digito in RA) # Soma dos dígitos do RA\n",
    "print('SOMA:',soma)\n",
    "\n",
    "v0 = 2 * soma # Velocidade inicial é o dobro da soma dos dígitos\n",
    "print('VELOCIDADE INICIAL:', v0, 'm/s') # Exibe a velocidade inicial\n",
    "\n",
    "hmax = (v0**2) / (2 * g) # Altura máxima\n",
    "\n",
    "print(f'A altura máxima atingida é {hmax:.2f} metros.') # Exibe a altura máxima com duas casas decimais\n",
    "\n",
    "\n"
   ]
  }
 ],
 "metadata": {
  "kernelspec": {
   "display_name": "base",
   "language": "python",
   "name": "python3"
  },
  "language_info": {
   "codemirror_mode": {
    "name": "ipython",
    "version": 3
   },
   "file_extension": ".py",
   "mimetype": "text/x-python",
   "name": "python",
   "nbconvert_exporter": "python",
   "pygments_lexer": "ipython3",
   "version": "3.12.7"
  }
 },
 "nbformat": 4,
 "nbformat_minor": 2
}
